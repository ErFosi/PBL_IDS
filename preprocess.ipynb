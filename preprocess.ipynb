{
 "cells": [
  {
   "metadata": {},
   "cell_type": "markdown",
   "source": "# PBL DATA PREPROCESS",
   "id": "4ff26c7a1e3c67ea"
  },
  {
   "metadata": {},
   "cell_type": "markdown",
   "source": "## Load the dataset",
   "id": "87a1e89b8c187041"
  },
  {
   "metadata": {
    "ExecuteTime": {
     "end_time": "2025-01-12T14:21:45.999806Z",
     "start_time": "2025-01-12T14:21:45.987874Z"
    }
   },
   "cell_type": "code",
   "source": [
    "#Imports\n",
    "import pandas as pd\n",
    "import numpy as np\n",
    "import matplotlib.pyplot as plt\n",
    "import seaborn as sns\n",
    "import os\n",
    "import sys\n",
    "import warnings\n",
    "warnings.filterwarnings('ignore')\n"
   ],
   "id": "e812bea42daa8240",
   "outputs": [],
   "execution_count": 6
  },
  {
   "metadata": {
    "ExecuteTime": {
     "end_time": "2025-01-12T14:21:47.007950Z",
     "start_time": "2025-01-12T14:21:46.999442Z"
    }
   },
   "cell_type": "code",
   "source": [
    "# Load the dataset\n",
    "data = pd.read_csv('random_dataset.csv')"
   ],
   "id": "5c314fcf3c6cb3d",
   "outputs": [],
   "execution_count": 7
  },
  {
   "metadata": {},
   "cell_type": "markdown",
   "source": "## Data variables explanation",
   "id": "4575622320d637f5"
  },
  {
   "metadata": {
    "ExecuteTime": {
     "end_time": "2025-01-12T14:21:48.114202Z",
     "start_time": "2025-01-12T14:21:48.094673Z"
    }
   },
   "cell_type": "code",
   "source": [
    "# Display the first 5 rows of the dataset   \n",
    "data.head()"
   ],
   "id": "9462dd6ad01d91d7",
   "outputs": [
    {
     "data": {
      "text/plain": [
       "                        ts    uid      id.orig_h  id.orig_p     id.resp_h  \\\n",
       "0  2025-01-01 00:00:00.000  C9330  192.168.1.207      61952  172.16.0.131   \n",
       "1  2025-01-01 00:00:00.030  C5474   192.168.1.12      15105  172.16.0.152   \n",
       "2  2025-01-01 00:00:00.060  C9309   192.168.1.63      24108  172.16.0.168   \n",
       "3  2025-01-01 00:00:00.090  C2868   192.168.1.52      23834  172.16.0.240   \n",
       "4  2025-01-01 00:00:00.120  C2946  192.168.1.172       6791   172.16.0.68   \n",
       "\n",
       "   id.resp_p proto service  duration  orig_bytes  resp_bytes conn_state  \\\n",
       "0        405  icmp     ssh    221.33       90838       89159         SF   \n",
       "1        622  icmp     ftp    213.18       44275       18818         S0   \n",
       "2         43   tcp     ssl     81.39       72933       86718       RSTR   \n",
       "3         59   tcp     dns    233.96       93500        9335         S1   \n",
       "4         47   udp     dns    226.50       35881       98591         SH   \n",
       "\n",
       "  local_orig local_resp  missed_bytes history  orig_pkts  orig_ip_bytes  \\\n",
       "0          T          F            69      Dd         92          62728   \n",
       "1          F          F            69      Dd         28          62721   \n",
       "2          T          F            59     Srv         73          14000   \n",
       "3          T          F            57     Srv         45          61279   \n",
       "4          T          T            21    ShAD         45           1401   \n",
       "\n",
       "   resp_pkts  resp_ip_bytes  \n",
       "0          6           7497  \n",
       "1         35          14632  \n",
       "2         45          15733  \n",
       "3         21          60510  \n",
       "4         35          38361  "
      ],
      "text/html": [
       "<div>\n",
       "<style scoped>\n",
       "    .dataframe tbody tr th:only-of-type {\n",
       "        vertical-align: middle;\n",
       "    }\n",
       "\n",
       "    .dataframe tbody tr th {\n",
       "        vertical-align: top;\n",
       "    }\n",
       "\n",
       "    .dataframe thead th {\n",
       "        text-align: right;\n",
       "    }\n",
       "</style>\n",
       "<table border=\"1\" class=\"dataframe\">\n",
       "  <thead>\n",
       "    <tr style=\"text-align: right;\">\n",
       "      <th></th>\n",
       "      <th>ts</th>\n",
       "      <th>uid</th>\n",
       "      <th>id.orig_h</th>\n",
       "      <th>id.orig_p</th>\n",
       "      <th>id.resp_h</th>\n",
       "      <th>id.resp_p</th>\n",
       "      <th>proto</th>\n",
       "      <th>service</th>\n",
       "      <th>duration</th>\n",
       "      <th>orig_bytes</th>\n",
       "      <th>resp_bytes</th>\n",
       "      <th>conn_state</th>\n",
       "      <th>local_orig</th>\n",
       "      <th>local_resp</th>\n",
       "      <th>missed_bytes</th>\n",
       "      <th>history</th>\n",
       "      <th>orig_pkts</th>\n",
       "      <th>orig_ip_bytes</th>\n",
       "      <th>resp_pkts</th>\n",
       "      <th>resp_ip_bytes</th>\n",
       "    </tr>\n",
       "  </thead>\n",
       "  <tbody>\n",
       "    <tr>\n",
       "      <th>0</th>\n",
       "      <td>2025-01-01 00:00:00.000</td>\n",
       "      <td>C9330</td>\n",
       "      <td>192.168.1.207</td>\n",
       "      <td>61952</td>\n",
       "      <td>172.16.0.131</td>\n",
       "      <td>405</td>\n",
       "      <td>icmp</td>\n",
       "      <td>ssh</td>\n",
       "      <td>221.33</td>\n",
       "      <td>90838</td>\n",
       "      <td>89159</td>\n",
       "      <td>SF</td>\n",
       "      <td>T</td>\n",
       "      <td>F</td>\n",
       "      <td>69</td>\n",
       "      <td>Dd</td>\n",
       "      <td>92</td>\n",
       "      <td>62728</td>\n",
       "      <td>6</td>\n",
       "      <td>7497</td>\n",
       "    </tr>\n",
       "    <tr>\n",
       "      <th>1</th>\n",
       "      <td>2025-01-01 00:00:00.030</td>\n",
       "      <td>C5474</td>\n",
       "      <td>192.168.1.12</td>\n",
       "      <td>15105</td>\n",
       "      <td>172.16.0.152</td>\n",
       "      <td>622</td>\n",
       "      <td>icmp</td>\n",
       "      <td>ftp</td>\n",
       "      <td>213.18</td>\n",
       "      <td>44275</td>\n",
       "      <td>18818</td>\n",
       "      <td>S0</td>\n",
       "      <td>F</td>\n",
       "      <td>F</td>\n",
       "      <td>69</td>\n",
       "      <td>Dd</td>\n",
       "      <td>28</td>\n",
       "      <td>62721</td>\n",
       "      <td>35</td>\n",
       "      <td>14632</td>\n",
       "    </tr>\n",
       "    <tr>\n",
       "      <th>2</th>\n",
       "      <td>2025-01-01 00:00:00.060</td>\n",
       "      <td>C9309</td>\n",
       "      <td>192.168.1.63</td>\n",
       "      <td>24108</td>\n",
       "      <td>172.16.0.168</td>\n",
       "      <td>43</td>\n",
       "      <td>tcp</td>\n",
       "      <td>ssl</td>\n",
       "      <td>81.39</td>\n",
       "      <td>72933</td>\n",
       "      <td>86718</td>\n",
       "      <td>RSTR</td>\n",
       "      <td>T</td>\n",
       "      <td>F</td>\n",
       "      <td>59</td>\n",
       "      <td>Srv</td>\n",
       "      <td>73</td>\n",
       "      <td>14000</td>\n",
       "      <td>45</td>\n",
       "      <td>15733</td>\n",
       "    </tr>\n",
       "    <tr>\n",
       "      <th>3</th>\n",
       "      <td>2025-01-01 00:00:00.090</td>\n",
       "      <td>C2868</td>\n",
       "      <td>192.168.1.52</td>\n",
       "      <td>23834</td>\n",
       "      <td>172.16.0.240</td>\n",
       "      <td>59</td>\n",
       "      <td>tcp</td>\n",
       "      <td>dns</td>\n",
       "      <td>233.96</td>\n",
       "      <td>93500</td>\n",
       "      <td>9335</td>\n",
       "      <td>S1</td>\n",
       "      <td>T</td>\n",
       "      <td>F</td>\n",
       "      <td>57</td>\n",
       "      <td>Srv</td>\n",
       "      <td>45</td>\n",
       "      <td>61279</td>\n",
       "      <td>21</td>\n",
       "      <td>60510</td>\n",
       "    </tr>\n",
       "    <tr>\n",
       "      <th>4</th>\n",
       "      <td>2025-01-01 00:00:00.120</td>\n",
       "      <td>C2946</td>\n",
       "      <td>192.168.1.172</td>\n",
       "      <td>6791</td>\n",
       "      <td>172.16.0.68</td>\n",
       "      <td>47</td>\n",
       "      <td>udp</td>\n",
       "      <td>dns</td>\n",
       "      <td>226.50</td>\n",
       "      <td>35881</td>\n",
       "      <td>98591</td>\n",
       "      <td>SH</td>\n",
       "      <td>T</td>\n",
       "      <td>T</td>\n",
       "      <td>21</td>\n",
       "      <td>ShAD</td>\n",
       "      <td>45</td>\n",
       "      <td>1401</td>\n",
       "      <td>35</td>\n",
       "      <td>38361</td>\n",
       "    </tr>\n",
       "  </tbody>\n",
       "</table>\n",
       "</div>"
      ]
     },
     "execution_count": 8,
     "metadata": {},
     "output_type": "execute_result"
    }
   ],
   "execution_count": 8
  },
  {
   "metadata": {},
   "cell_type": "markdown",
   "source": [
    "## Description of the variables \n",
    "\n",
    "\n",
    "- ts: Timestamp of when the event was recorded.\n",
    "- uid: Unique identifier for each connection.\n",
    "- id.orig_h: Source IP address initiating the connection.\n",
    "- id.orig_p: Source port from where the connection is initiated.\n",
    "- id.resp_h: Destination IP address receiving the connection.\n",
    "- id.resp_p: Destination port receiving the connection.\n",
    "- proto: Protocol used in the connection (e.g., TCP, UDP).\n",
    "- service: Application-level protocol detected on the connection.\n",
    "- duration: Length of time the connection was active.\n",
    "- orig_bytes: Total bytes sent by the source.\n",
    "- resp_bytes: Total bytes sent by the destination.\n",
    "- conn_state: State of the connection at the time of logging.\n",
    "- local_orig: Indicates if the source is local.\n",
    "- local_resp: Indicates if the destination is local.\n",
    "- missed_bytes: Number of bytes missed during the connection.\n",
    "- history: Sequence of events in the connection (e.g., packets sent/received).\n",
    "- orig_pkts: Number of packets sent by the source.\n",
    "- orig_ip_bytes: Total IP bytes sent by the source, including headers.\n",
    "- resp_pkts: Number of packets sent by the destination.\n",
    "- resp_ip_bytes: Total IP bytes sent by the destination, including headers.\n"
   ],
   "id": "7c54ec3f2c47a75e"
  },
  {
   "metadata": {},
   "cell_type": "markdown",
   "source": [
    "## Data analysis\n",
    "\n",
    "This will be done when the real dataset is obtained. For now, we will just preprocess the data."
   ],
   "id": "d35941159f180114"
  },
  {
   "metadata": {},
   "cell_type": "markdown",
   "source": [
    "## Data preprocessing\n",
    "\n",
    "We will explore twom main strategies for creating the dataset:\n",
    "- Time windows based on the timestamp 0.5, 1s, 5s or 10s.\n",
    "- Packet count based on the number of packets in a connection, e.g., 10, 20, 50, 100, 200, 500, 1000, 2000, 5000, 10000, 20000. This should be performed taking into account the usual packet count in the real network traffic.\n",
    "\n",
    "# Time windows based "
   ],
   "id": "af7aee87757658e8"
  },
  {
   "metadata": {
    "ExecuteTime": {
     "end_time": "2025-01-12T14:52:28.223990Z",
     "start_time": "2025-01-12T14:52:28.207964Z"
    }
   },
   "cell_type": "code",
   "source": [
    "# Convert the ts to datetime\n",
    "\n",
    "data['ts'] = pd.to_datetime(data['ts'])\n",
    "# Sort the data by the timestamp\n",
    "data = data.sort_values(by='ts')"
   ],
   "id": "3405a2ddb6790dff",
   "outputs": [],
   "execution_count": 9
  },
  {
   "metadata": {
    "ExecuteTime": {
     "end_time": "2025-01-12T14:52:29.035165Z",
     "start_time": "2025-01-12T14:52:29.023135Z"
    }
   },
   "cell_type": "code",
   "source": [
    "# Create a new column with the time window\n",
    "data['time_window'] = data['ts'].dt.floor('s')\n"
   ],
   "id": "b7e0ee29d0a70f73",
   "outputs": [],
   "execution_count": 10
  },
  {
   "metadata": {},
   "cell_type": "code",
   "outputs": [],
   "execution_count": null,
   "source": "",
   "id": "5adcd5466ab4304e"
  },
  {
   "metadata": {},
   "cell_type": "markdown",
   "source": "",
   "id": "232d073dc775cf9c"
  },
  {
   "metadata": {},
   "cell_type": "markdown",
   "source": [
    "## Packet count based\n",
    "In this\n"
   ],
   "id": "6a3d23a861201019"
  }
 ],
 "metadata": {
  "kernelspec": {
   "display_name": "Python 3",
   "language": "python",
   "name": "python3"
  },
  "language_info": {
   "codemirror_mode": {
    "name": "ipython",
    "version": 2
   },
   "file_extension": ".py",
   "mimetype": "text/x-python",
   "name": "python",
   "nbconvert_exporter": "python",
   "pygments_lexer": "ipython2",
   "version": "2.7.6"
  }
 },
 "nbformat": 4,
 "nbformat_minor": 5
}
